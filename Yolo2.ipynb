{
 "cells": [
  {
   "cell_type": "code",
   "execution_count": 17,
   "metadata": {},
   "outputs": [
    {
     "name": "stdout",
     "output_type": "stream",
     "text": [
      "CUDA is available!  Training on GPU ...\n"
     ]
    }
   ],
   "source": [
    "import torch\n",
    "from ultralytics import YOLO\n",
    "from IPython.display import display\n",
    "from PIL import Image\n",
    "\n",
    "train_on_gpu = torch.cuda.is_available()\n",
    "torch.cuda.empty_cache()\n",
    "\n",
    "if not train_on_gpu:\n",
    "    print('CUDA is not available.  Training on CPU ...')\n",
    "else:\n",
    "    print('CUDA is available!  Training on GPU ...')\n",
    "\n",
    "model1 = YOLO(\"runs/detect/train3/weights/best.pt\")\n",
    "\n",
    "model2 = YOLO(\"yolov8n.pt\").to('cuda')\n",
    "#model2.train(data='my_dataset2.yaml', \n",
    "#            epochs=30, \n",
    "#            imgsz=1024, \n",
    "#            batch=12, \n",
    "#            workers=4, \n",
    "#            #close_mosaic=-1, \n",
    "#            hsv_h=0.015, \n",
    "#            hsv_s=0.5, \n",
    "#            hsv_v= 0.4,\n",
    "#            mixup=0.2,\n",
    "#            dropout= 0.4,\n",
    "#            auto_augment='autoaugment', \n",
    "#            scale=0.7,\n",
    "#            device='cuda')"
   ]
  },
  {
   "cell_type": "code",
   "execution_count": 20,
   "metadata": {},
   "outputs": [
    {
     "name": "stdout",
     "output_type": "stream",
     "text": [
      "\n",
      "image 1/1 /home/bchen/csci611/CSCI611_Spring25_Boxi_Chen/temp1.jpg: 480x640 (no detections), 55.3ms\n",
      "Speed: 9.0ms preprocess, 55.3ms inference, 4.0ms postprocess per image at shape (1, 3, 480, 640)\n",
      "\n",
      "image 1/1 /home/bchen/csci611/CSCI611_Spring25_Boxi_Chen/temp1.jpg: 480x640 1 person, 1 car, 68.8ms\n",
      "Speed: 6.0ms preprocess, 68.8ms inference, 5.8ms postprocess per image at shape (1, 3, 480, 640)\n",
      "img1 type: <class 'numpy.ndarray'>\n",
      "img2 type: <class 'numpy.ndarray'>\n",
      "\n",
      "image 1/1 /home/bchen/csci611/CSCI611_Spring25_Boxi_Chen/temp2.jpg: 384x640 1 red_light, 143.8ms\n",
      "Speed: 5.0ms preprocess, 143.8ms inference, 1.8ms postprocess per image at shape (1, 3, 384, 640)\n",
      "\n",
      "image 1/1 /home/bchen/csci611/CSCI611_Spring25_Boxi_Chen/temp2.jpg: 384x640 1 person, 2 cars, 1 traffic light, 1 stop sign, 7.9ms\n",
      "Speed: 2.5ms preprocess, 7.9ms inference, 1.8ms postprocess per image at shape (1, 3, 384, 640)\n",
      "img1 type: <class 'numpy.ndarray'>\n",
      "img2 type: <class 'numpy.ndarray'>\n",
      "\n",
      "image 1/1 /home/bchen/csci611/CSCI611_Spring25_Boxi_Chen/temp3.jpg: 384x640 (no detections), 6.7ms\n",
      "Speed: 2.9ms preprocess, 6.7ms inference, 0.8ms postprocess per image at shape (1, 3, 384, 640)\n",
      "\n",
      "image 1/1 /home/bchen/csci611/CSCI611_Spring25_Boxi_Chen/temp3.jpg: 384x640 3 cars, 1 airplane, 6.9ms\n",
      "Speed: 2.6ms preprocess, 6.9ms inference, 1.9ms postprocess per image at shape (1, 3, 384, 640)\n",
      "img1 type: <class 'numpy.ndarray'>\n",
      "img2 type: <class 'numpy.ndarray'>\n"
     ]
    },
    {
     "data": {
      "text/plain": [
       "<Figure size 1500x1000 with 6 Axes>"
      ]
     },
     "metadata": {},
     "output_type": "display_data"
    }
   ],
   "source": [
    "import matplotlib.pyplot as plt\n",
    "import cv2\n",
    "\n",
    "image_paths = [\"temp1.jpg\", \"temp2.jpg\", \"temp3.jpg\"]\n",
    "\n",
    "fig, axes = plt.subplots(2, 3, figsize=(15, 10))\n",
    "\n",
    "for i, image_path in enumerate(image_paths):\n",
    "    results1 = model1(image_path)\n",
    "    img1 = results1[0].plot()\n",
    "    \n",
    "    results2 = model2(image_path)\n",
    "    img2 = results2[0].plot()\n",
    "\n",
    "    print(f\"img1 type: {type(img1)}\")\n",
    "    print(f\"img2 type: {type(img2)}\")\n",
    "    #results3 = model1(image_path, conf=0.1, iou=0.4)\n",
    "    #img3 = results3[0].plot()\n",
    "    \n",
    "    axes[0, i].imshow(cv2.cvtColor(img1, cv2.COLOR_BGR2RGB))\n",
    "    axes[0, i].set_title(f\"fine-tuning Model - {image_path}\")\n",
    "    axes[0, i].axis(\"off\")\n",
    "\n",
    "    axes[1, i].imshow(cv2.cvtColor(img2, cv2.COLOR_BGR2RGB))\n",
    "    axes[1, i].set_title(f\"YOLOv8n - {image_path}\")\n",
    "    axes[1, i].axis(\"off\")\n",
    "    \n",
    "    #axes[2, i].imshow(cv2.cvtColor(img3, cv2.COLOR_BGR2RGB))\n",
    "    #axes[2, i].set_title(f\"adjust_con/iou - {image_path}\")\n",
    "    #axes[2, i].axis(\"off\")\n",
    "\n",
    "plt.tight_layout()\n",
    "plt.draw()\n",
    "plt.show()"
   ]
  }
 ],
 "metadata": {
  "kernelspec": {
   "display_name": "Python 3",
   "language": "python",
   "name": "python3"
  },
  "language_info": {
   "codemirror_mode": {
    "name": "ipython",
    "version": 3
   },
   "file_extension": ".py",
   "mimetype": "text/x-python",
   "name": "python",
   "nbconvert_exporter": "python",
   "pygments_lexer": "ipython3",
   "version": "3.10.12"
  }
 },
 "nbformat": 4,
 "nbformat_minor": 2
}
